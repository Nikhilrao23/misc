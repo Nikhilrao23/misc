{
 "cells": [
  {
   "cell_type": "code",
   "execution_count": 1,
   "metadata": {},
   "outputs": [],
   "source": [
    "%%bash\n",
    "curl -s http://seanlahman.com/files/database/lahman-csv_2014-02-14.zip --output ~/Downloads/baseballdata.zip"
   ]
  },
  {
   "cell_type": "code",
   "execution_count": 2,
   "metadata": {},
   "outputs": [],
   "source": [
    "%%bash\n",
    "mkdir ~/Downloads/baseballdata/\n",
    "unzip -qq ~/Downloads/baseballdata.zip -d ~/Downloads/baseballdata/"
   ]
  },
  {
   "cell_type": "code",
   "execution_count": 3,
   "metadata": {},
   "outputs": [],
   "source": [
    "import os\n",
    "\n",
    "home = os.path.join(os.path.expanduser('~'), 'Downloads/')"
   ]
  },
  {
   "cell_type": "code",
   "execution_count": 4,
   "metadata": {},
   "outputs": [],
   "source": [
    "import sqlalchemy\n",
    "import pandas as pd\n",
    "\n",
    "con = sqlalchemy.create_engine('sqlite:///{}baseball.sqlite'.format(home))"
   ]
  },
  {
   "cell_type": "markdown",
   "metadata": {},
   "source": [
    "This is a bit unconventional, but below we load each CSV to a pandas DataFrame, then dump all into a single SQLite database.  This better mimics the way we might actually use `sqlalchemy`. (Interacting with databases, not flat files.)\n",
    "\n",
    "One thing we need to be aware of with this process is that we might lose data types."
   ]
  },
  {
   "cell_type": "code",
   "execution_count": 5,
   "metadata": {},
   "outputs": [],
   "source": [
    "import glob\n",
    "\n",
    "for filepath in glob.glob('{}baseballdata/*.csv'.format(home)):\n",
    "    table = pd.read_csv(filepath)\n",
    "    name = os.path.basename(filepath).split('.')[0]\n",
    "    table.to_sql(name=name, con=con)"
   ]
  },
  {
   "cell_type": "markdown",
   "metadata": {},
   "source": [
    "# Question 1"
   ]
  },
  {
   "cell_type": "markdown",
   "metadata": {},
   "source": [
    "<font color=\"blue\">\n",
    "What was the total spent on salaries by each team, each year?\n",
    "</font>"
   ]
  },
  {
   "cell_type": "markdown",
   "metadata": {},
   "source": [
    "Here are these records for the first 5 teams in 1985.\n",
    "\n",
    "But first, let's define a helper for dumping queries to a DataFrame.\n",
    "\n",
    "Again, this is a bit redundant knowing that we could use `pd.read_sql_query` here, so is for illustration only:"
   ]
  },
  {
   "cell_type": "code",
   "execution_count": 6,
   "metadata": {},
   "outputs": [],
   "source": [
    "def sql_to_df(con, stmt, **kwargs):\n",
    "    res = con.execute(stmt).fetchall()\n",
    "    return pd.DataFrame(res, **kwargs)"
   ]
  },
  {
   "cell_type": "code",
   "execution_count": 7,
   "metadata": {},
   "outputs": [],
   "source": [
    "stmt = \"\"\"\n",
    "SELECT yearID, teamID, SUM(salary)\n",
    "FROM Salaries\n",
    "GROUP BY yearID, teamID;\n",
    "\"\"\""
   ]
  },
  {
   "cell_type": "code",
   "execution_count": 8,
   "metadata": {},
   "outputs": [
    {
     "name": "stdout",
     "output_type": "stream",
     "text": [
      "   year team  total_salary\n",
      "0  1985  ATL      14807000\n",
      "1  1985  BAL      11560712\n",
      "2  1985  BOS      10897560\n",
      "3  1985  CAL      14427894\n",
      "4  1985  CHA       9846178\n"
     ]
    }
   ],
   "source": [
    "print(sql_to_df(con, stmt,\n",
    "                columns=['year', 'team', 'total_salary']).head())"
   ]
  },
  {
   "cell_type": "markdown",
   "metadata": {},
   "source": [
    "# Question 2"
   ]
  },
  {
   "cell_type": "markdown",
   "metadata": {},
   "source": [
    "<font color=\"blue\">\n",
    "What is the first and last year played for each player?\n",
    "</font>"
   ]
  },
  {
   "cell_type": "code",
   "execution_count": 9,
   "metadata": {},
   "outputs": [],
   "source": [
    "stmt = \"\"\"\n",
    "SELECT PlayerID, MIN(yearID), MAX(yearID) FROM Fielding GROUP BY playerID;\n",
    "\"\"\""
   ]
  },
  {
   "cell_type": "code",
   "execution_count": 10,
   "metadata": {},
   "outputs": [
    {
     "name": "stdout",
     "output_type": "stream",
     "text": [
      "    playerid  min_yr  max_yr\n",
      "0  aardsda01    2004    2013\n",
      "1  aaronha01    1954    1976\n",
      "2  aaronto01    1962    1971\n",
      "3   aasedo01    1977    1990\n",
      "4   abadan01    2001    2003\n"
     ]
    }
   ],
   "source": [
    "print(sql_to_df(con, stmt,\n",
    "                columns=['playerid', 'min_yr', 'max_yr']).head())"
   ]
  },
  {
   "cell_type": "markdown",
   "metadata": {},
   "source": [
    "# Question 3"
   ]
  },
  {
   "cell_type": "markdown",
   "metadata": {},
   "source": [
    "<font color=\"blue\">\n",
    "Who has played the most all star games?\n",
    "</font>"
   ]
  },
  {
   "cell_type": "code",
   "execution_count": 11,
   "metadata": {},
   "outputs": [],
   "source": [
    "stmt = \"\"\"\n",
    "SELECT nameFirst, nameLast\n",
    "FROM Master\n",
    "WHERE playerID = (\n",
    "    SELECT playerID\n",
    "    FROM AllstarFull\n",
    "    GROUP BY playerID\n",
    "    ORDER BY COUNT(playerID) DESC\n",
    "    LIMIT 1);\n",
    "\"\"\""
   ]
  },
  {
   "cell_type": "code",
   "execution_count": 12,
   "metadata": {},
   "outputs": [
    {
     "data": {
      "text/plain": [
       "'Hank Aaron'"
      ]
     },
     "execution_count": 12,
     "metadata": {},
     "output_type": "execute_result"
    }
   ],
   "source": [
    "' '.join(con.execute(stmt).fetchone())"
   ]
  },
  {
   "cell_type": "markdown",
   "metadata": {},
   "source": [
    "# Question 4"
   ]
  },
  {
   "cell_type": "markdown",
   "metadata": {},
   "source": [
    "<font color=\"blue\">\n",
    "Which school has generated the most distinct players?\n",
    "</font>"
   ]
  },
  {
   "cell_type": "code",
   "execution_count": 13,
   "metadata": {},
   "outputs": [],
   "source": [
    "stmt = \"\"\"\n",
    "SELECT schoolName\n",
    "FROM Schools\n",
    "WHERE schoolID = (\n",
    "    SELECT schoolID\n",
    "    FROM SchoolsPlayers\n",
    "    GROUP BY schoolID\n",
    "    ORDER BY COUNT(playerID) DESC\n",
    "    LIMIT 1);\n",
    "\"\"\""
   ]
  },
  {
   "cell_type": "code",
   "execution_count": 14,
   "metadata": {},
   "outputs": [
    {
     "data": {
      "text/plain": [
       "('University of Southern California',)"
      ]
     },
     "execution_count": 14,
     "metadata": {},
     "output_type": "execute_result"
    }
   ],
   "source": [
    "con.execute(stmt).fetchone()"
   ]
  },
  {
   "cell_type": "markdown",
   "metadata": {},
   "source": [
    "# Question 5"
   ]
  },
  {
   "cell_type": "markdown",
   "metadata": {},
   "source": [
    "<font color=\"blue\">\n",
    "Which players have the longest career? Assume that the debut and finalGame columns comprise the start and end, respectively, of a player's career. Hint: Create a new table from 'Master.csv'. Also note that strings can be converted to dates using the DATE function and can then be subtracted from each other yielding their difference in days.\n",
    "</font>"
   ]
  },
  {
   "cell_type": "code",
   "execution_count": 15,
   "metadata": {},
   "outputs": [],
   "source": [
    "stmt = \"\"\"\n",
    "SELECT nameFirst, nameLast\n",
    "FROM Master\n",
    "ORDER BY DATE(finalGame) - DATE(debut) DESC\n",
    "LIMIT 1;\n",
    "\"\"\""
   ]
  },
  {
   "cell_type": "code",
   "execution_count": 16,
   "metadata": {},
   "outputs": [
    {
     "data": {
      "text/plain": [
       "'Nick Altrock'"
      ]
     },
     "execution_count": 16,
     "metadata": {},
     "output_type": "execute_result"
    }
   ],
   "source": [
    "' '.join(con.execute(stmt).fetchone())"
   ]
  },
  {
   "cell_type": "markdown",
   "metadata": {},
   "source": [
    "From Wikipedia:\n",
    "\n",
    "> Nicholas \"Nick\" Altrock (September 15, 1876 – January 20, 1965) was an American left-handed pitcher in Major League Baseball. Though his days as a full-time player ended quickly due to injury, Altrock made periodic appearances as a pinch hitter for many years. He appeared in a game at the age of 57."
   ]
  },
  {
   "cell_type": "markdown",
   "metadata": {},
   "source": [
    "# Question 6"
   ]
  },
  {
   "cell_type": "markdown",
   "metadata": {},
   "source": [
    "<font color=\"blue\">\n",
    "What is the distribution of debut months? Hint: Look at the DATE and EXTRACT functions.\n",
    "</font>"
   ]
  },
  {
   "cell_type": "markdown",
   "metadata": {},
   "source": [
    "No `EXTRACT` in SQLite; the equivalent would be `STRFTIME`."
   ]
  },
  {
   "cell_type": "code",
   "execution_count": 17,
   "metadata": {},
   "outputs": [],
   "source": [
    "stmt = \"\"\"\n",
    "SELECT STRFTIME('%m', DATE(debut)) AS month, COUNT(STRFTIME('%m', DATE(debut))) \n",
    "FROM Master\n",
    "WHERE month NOT NULL\n",
    "GROUP BY STRFTIME('%m', DATE(debut));\n",
    "\"\"\""
   ]
  },
  {
   "cell_type": "code",
   "execution_count": 18,
   "metadata": {},
   "outputs": [
    {
     "name": "stdout",
     "output_type": "stream",
     "text": [
      "  month  counts\n",
      "0    03      41\n",
      "1    04    4711\n",
      "2    05    2230\n",
      "3    06    1893\n",
      "4    07    1978\n",
      "5    08    1943\n",
      "6    09    5061\n",
      "7    10     308\n"
     ]
    }
   ],
   "source": [
    "print(sql_to_df(con, stmt,\n",
    "                columns=['month', 'counts']))"
   ]
  },
  {
   "cell_type": "markdown",
   "metadata": {},
   "source": [
    "# Question 7"
   ]
  },
  {
   "cell_type": "markdown",
   "metadata": {},
   "source": [
    "<font color=\"blue\">\n",
    "What is the effect of table join order on mean salary for the players listed in the main (master) table? Hint: Perform two different queries, one that joins on playerID in the salary table and other that joins on the same column in the master table. You will have to use left joins for each since right joins are not currently supported with SQLalchemy.\n",
    "</font>"
   ]
  },
  {
   "cell_type": "markdown",
   "metadata": {},
   "source": [
    "Sorry, it's not clear to me what this question is asking.  The results appear to be equal in this case."
   ]
  },
  {
   "cell_type": "code",
   "execution_count": 19,
   "metadata": {},
   "outputs": [],
   "source": [
    "stmt1 = \"\"\"\n",
    "SELECT nameFirst, nameLast, MeanSalaries.AvgSalary\n",
    "FROM Master\n",
    "JOIN (\n",
    "    SELECT playerID, AVG(salary) as AvgSalary\n",
    "    FROM Salaries\n",
    "    GROUP BY playerID) MeanSalaries\n",
    "ON Master.playerID = MeanSalaries.playerID;\n",
    "\"\"\""
   ]
  },
  {
   "cell_type": "code",
   "execution_count": 20,
   "metadata": {},
   "outputs": [],
   "source": [
    "stmt2 = \"\"\"\n",
    "SELECT master.nameFirst, master.nameLast, MeanSalaries.AvgSalary\n",
    "FROM (\n",
    "    SELECT playerID, AVG(salary) as AvgSalary\n",
    "    FROM Salaries\n",
    "    GROUP BY playerID) MeanSalaries\n",
    "JOIN Master\n",
    "ON Master.playerID = MeanSalaries.playerID;\n",
    "\"\"\""
   ]
  },
  {
   "cell_type": "code",
   "execution_count": 21,
   "metadata": {},
   "outputs": [],
   "source": [
    "df1 = sql_to_df(con, stmt1)"
   ]
  },
  {
   "cell_type": "code",
   "execution_count": 22,
   "metadata": {},
   "outputs": [],
   "source": [
    "df2 = sql_to_df(con, stmt2)"
   ]
  },
  {
   "cell_type": "code",
   "execution_count": 23,
   "metadata": {},
   "outputs": [],
   "source": [
    "from pandas.testing import assert_frame_equal"
   ]
  },
  {
   "cell_type": "code",
   "execution_count": 24,
   "metadata": {},
   "outputs": [],
   "source": [
    "assert_frame_equal(df1, df2)"
   ]
  }
 ],
 "metadata": {
  "kernelspec": {
   "display_name": "Python 3",
   "language": "python",
   "name": "python3"
  },
  "language_info": {
   "codemirror_mode": {
    "name": "ipython",
    "version": 3
   },
   "file_extension": ".py",
   "mimetype": "text/x-python",
   "name": "python",
   "nbconvert_exporter": "python",
   "pygments_lexer": "ipython3",
   "version": "3.6.3"
  }
 },
 "nbformat": 4,
 "nbformat_minor": 2
}
