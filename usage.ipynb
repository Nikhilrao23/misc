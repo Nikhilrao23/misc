{
 "cells": [
  {
   "cell_type": "markdown",
   "metadata": {},
   "source": [
    "**This document gives some usage examples with [`weather.py`](https://github.com/bsolomon1124/misc/blob/master/weather.py)**.\n",
    "\n",
    "I'll be working in these examples with the local `weather.py` file on my machine rather than cloning the GitHub-hosted copy.  In my directory, `weather` is located at \n",
    "\n",
    "**`C:\\Users\\bsolomon\\_python\\adhoc\\weather.py`**\n",
    "\n",
    "and my default current directory is\n",
    "\n",
    "**`C:\\Users\\bsolomon\\_python`**\n",
    "\n",
    "So I import the module as:"
   ]
  },
  {
   "cell_type": "code",
   "execution_count": 1,
   "metadata": {
    "collapsed": true
   },
   "outputs": [],
   "source": [
    "from adhoc import weather"
   ]
  },
  {
   "cell_type": "markdown",
   "metadata": {
    "collapsed": true
   },
   "source": [
    "I've defined 3 core objects in `weather` -- 2 functions and 1 class."
   ]
  },
  {
   "cell_type": "code",
   "execution_count": 2,
   "metadata": {},
   "outputs": [
    {
     "name": "stdout",
     "output_type": "stream",
     "text": [
      "['get_current', 'CityWeather', 'get_json']\n"
     ]
    }
   ],
   "source": [
    "print(weather.__all__)"
   ]
  },
  {
   "cell_type": "markdown",
   "metadata": {},
   "source": [
    "* `get_current` - print a curated list of current measurements to STDOUT for a specified state and city.  It uses the `tabulate` module for a pretty-printed output.\n",
    "* `get_json` - this is largely just a convenience/helper function that gets the JSON through http request and constrains it to the relevant data.\n",
    "* `CityWeather` - a class-based implementation designed for repeated requests.  Largely just extra credit here.\n",
    "\n",
    "To use anything from the module you'll need a wunderground.com [key](https://www.wunderground.com/weather/api/d/docs).  Mine is **fec1d891d64ec80a**."
   ]
  },
  {
   "cell_type": "code",
   "execution_count": 3,
   "metadata": {
    "collapsed": true
   },
   "outputs": [],
   "source": [
    "key = 'fec1d891d64ec80a'"
   ]
  },
  {
   "cell_type": "markdown",
   "metadata": {},
   "source": [
    "Below demonstrates useage of each of the 3 module objects."
   ]
  },
  {
   "cell_type": "markdown",
   "metadata": {},
   "source": [
    "### `get_current`"
   ]
  },
  {
   "cell_type": "code",
   "execution_count": 4,
   "metadata": {},
   "outputs": [
    {
     "name": "stdout",
     "output_type": "stream",
     "text": [
      "Measurement      Value\n",
      "---------------  -------------------------------\n",
      "Temperature (F)  58.3\n",
      "Weather          Mostly Cloudy\n",
      "Dew point (F)    41\n",
      "Wind chill (F)   NA\n",
      "Feels like (F)   58.3\n",
      "Wind (MPH)       3.0\n",
      "Visibility (MI)  10.0\n",
      "Time             Thu, 26 Oct 2017 16:31:18 -0400\n",
      "\n",
      "Measurement      Value\n",
      "---------------  -------------------------------\n",
      "Temperature (C)  14.6\n",
      "Weather          Mostly Cloudy\n",
      "Dew point (C)    5\n",
      "Wind chill (C)   NA\n",
      "Feels like (C)   14.6\n",
      "Wind (KPH)       4.8\n",
      "Visibility (KM)  16.1\n",
      "Time             Thu, 26 Oct 2017 16:31:18 -0400\n",
      "\n",
      "Measurement      Value\n",
      "---------------  -------------------------------\n",
      "Temperature (F)  55.6\n",
      "Weather          Overcast\n",
      "Dew point (F)    53\n",
      "Wind chill (F)   NA\n",
      "Feels like (F)   55.6\n",
      "Wind (MPH)       7.4\n",
      "Visibility (MI)  10.0\n",
      "Time             Thu, 26 Oct 2017 16:26:45 -0400\n"
     ]
    }
   ],
   "source": [
    "\"\"\"\n",
    "Parameters\n",
    "==========\n",
    "key : str\n",
    "    your wunderground.com key\n",
    "units : str, defualt 'imperial'\n",
    "    specify one of ('imperial', 'metric')\n",
    "state : length-2 str, caps, default 'PA'\n",
    "    state abbreviation\n",
    "city : str, proper-case, default 'Philadelphia'\n",
    "    city name\n",
    "\"\"\"\n",
    "\n",
    "# Get current conditions with imperial (US-centric) units for Philadelphia, PA\n",
    "weather.get_current(key)\n",
    "    \n",
    "print()\n",
    "\n",
    "# Same as above but with metric units\n",
    "weather.get_current(key, units='metric')\n",
    "\n",
    "print()\n",
    "\n",
    "\n",
    "# Get current conditions for Boston, MA\n",
    "weather.get_current(key, state='MA', city='Boston')"
   ]
  },
  {
   "cell_type": "markdown",
   "metadata": {},
   "source": [
    "### `get_json`"
   ]
  },
  {
   "cell_type": "code",
   "execution_count": 5,
   "metadata": {},
   "outputs": [
    {
     "name": "stdout",
     "output_type": "stream",
     "text": [
      "{'image': {'url': 'http://icons.wxug.com/graphics/wu2/logo_130x80.png', 'title': 'Weather Underground', 'link': 'http://www.wunderground.com'}, 'display_location': {'full': 'Jacksonville, FL', 'city': 'Jacksonville', 'state': 'FL', 'state_name': 'Florida', 'country': 'US', 'country_iso3166': 'US', 'zip': '32099', 'magic': '1', 'wmo': '99999', 'latitude': '30.34000015', 'longitude': '-81.76999664', 'elevation': '6.1'}, 'observation_location': {'full': '⛅Edgewood, BinaryBully Technology Services, Jacksonville, Florida', 'city': '⛅Edgewood, BinaryBully Technology Services, Jacksonville', 'state': 'Florida', 'country': 'US', 'country_iso3166': 'US', 'latitude': '30.317287', 'longitude': '-81.741829', 'elevation': '62 ft'}, 'estimated': {}, 'station_id': 'KFLJACKS3134', 'observation_time': 'Last Updated on October 26, 4:30 PM EDT', 'observation_time_rfc822': 'Thu, 26 Oct 2017 16:30:41 -0400', 'observation_epoch': '1509049841', 'local_time_rfc822': 'Thu, 26 Oct 2017 16:31:36 -0400', 'local_epoch': '1509049896', 'local_tz_short': 'EDT', 'local_tz_long': 'America/New_York', 'local_tz_offset': '-0400', 'weather': 'Clear', 'temperature_string': '68.4 F (20.2 C)', 'temp_f': 68.4, 'temp_c': 20.2, 'relative_humidity': '33%', 'wind_string': 'Calm', 'wind_dir': 'South', 'wind_degrees': 180, 'wind_mph': 0.0, 'wind_gust_mph': 0, 'wind_kph': 0, 'wind_gust_kph': 0, 'pressure_mb': '1016', 'pressure_in': '30.01', 'pressure_trend': '0', 'dewpoint_string': '38 F (3 C)', 'dewpoint_f': 38, 'dewpoint_c': 3, 'heat_index_string': 'NA', 'heat_index_f': 'NA', 'heat_index_c': 'NA', 'windchill_string': 'NA', 'windchill_f': 'NA', 'windchill_c': 'NA', 'feelslike_string': '68.4 F (20.2 C)', 'feelslike_f': '68.4', 'feelslike_c': '20.2', 'visibility_mi': '10.0', 'visibility_km': '16.1', 'solarradiation': '35', 'UV': '0.0', 'precip_1hr_string': '0.00 in ( 0 mm)', 'precip_1hr_in': '0.00', 'precip_1hr_metric': ' 0', 'precip_today_string': '0.00 in (0 mm)', 'precip_today_in': '0.00', 'precip_today_metric': '0', 'icon': 'clear', 'icon_url': 'http://icons.wxug.com/i/c/k/clear.gif', 'forecast_url': 'http://www.wunderground.com/US/FL/Jacksonville.html', 'history_url': 'http://www.wunderground.com/weatherstation/WXDailyHistory.asp?ID=KFLJACKS3134', 'ob_url': 'http://www.wunderground.com/cgi-bin/findweather/getForecast?query=30.317287,-81.741829', 'nowcast': ''}\n"
     ]
    }
   ],
   "source": [
    "# This function is utilized within both `CityWeather` and `get_current`\n",
    "# Note that the \"original\" JSON is larger than this (it has 2 keys).\n",
    "#     I filter it down to just one key which contains relevant observational data.\n",
    "# The parameters are `key`, `state`, and `city` -- defined the same as in `get_current`\n",
    "\n",
    "print(weather.get_json(key, state='FL', city='Jacksonville'))"
   ]
  },
  {
   "cell_type": "markdown",
   "metadata": {},
   "source": [
    "### `CityWeather`"
   ]
  },
  {
   "cell_type": "code",
   "execution_count": 16,
   "metadata": {},
   "outputs": [
    {
     "name": "stdout",
     "output_type": "stream",
     "text": [
      "2017-10-26 20:38:41\n"
     ]
    }
   ],
   "source": [
    "# Instantiate a CityWeather class.  The call to `get_json` \n",
    "# is made at instantiation with the resulting json becoming \n",
    "# the `data` attribute.\n",
    "\n",
    "import time\n",
    "print(time.strftime(\"%Y-%m-%d %H:%M:%S\", time.gmtime()))\n",
    "phila_1 = weather.CityWeather(key)\n",
    "boston_1 = weather.CityWeather(key, state='MA', city='Boston')"
   ]
  },
  {
   "cell_type": "code",
   "execution_count": 7,
   "metadata": {},
   "outputs": [
    {
     "name": "stdout",
     "output_type": "stream",
     "text": [
      "fec1d891d64ec80a PA Philadelphia\n"
     ]
    }
   ],
   "source": [
    "# This class gets instantiated with 3 attributes in addition to `data`:\n",
    "print(phila_1.key, phila_1.state, phila_1.city)"
   ]
  },
  {
   "cell_type": "code",
   "execution_count": 13,
   "metadata": {},
   "outputs": [
    {
     "name": "stdout",
     "output_type": "stream",
     "text": [
      "{'full': 'south end, Boston, Massachusetts', 'city': 'south end, Boston', 'state': 'Massachusetts', 'country': 'US', 'country_iso3166': 'US', 'latitude': '42.346802', 'longitude': '-71.071365', 'elevation': '46 ft'}\n",
      "\n",
      "{'full': 'Society Hill, Philadelphia, Philadelphia, Pennsylvania', 'city': 'Society Hill, Philadelphia, Philadelphia', 'state': 'Pennsylvania', 'country': 'US', 'country_iso3166': 'US', 'latitude': '39.943699', 'longitude': '-75.150902', 'elevation': '43 ft'}\n"
     ]
    }
   ],
   "source": [
    "# It comes with one other property, the observation *location* portion of the JSON\n",
    "# For Philadelphia, this is Society Hill neighborhood\n",
    "print(boston_1.observation_location)\n",
    "print()\n",
    "print(phila_1.observation_location)"
   ]
  },
  {
   "cell_type": "code",
   "execution_count": 9,
   "metadata": {},
   "outputs": [
    {
     "name": "stdout",
     "output_type": "stream",
     "text": [
      "{'image': {'url': 'http://icons.wxug.com/graphics/wu2/logo_130x80.png', 'title': 'Weather Underground', 'link': 'http://www.wunderground.com'}, 'estimated': {}, 'station_id': 'KPAPHILA99', 'observation_time': 'Last Updated on October 26, 4:16 PM EDT', 'observation_time_rfc822': 'Thu, 26 Oct 2017 16:16:16 -0400', 'observation_epoch': '1509048976', 'local_time_rfc822': 'Thu, 26 Oct 2017 16:26:46 -0400', 'local_epoch': '1509049606', 'local_tz_short': 'EDT', 'local_tz_long': 'America/New_York', 'local_tz_offset': '-0400', 'weather': 'Mostly Cloudy', 'temperature_string': '58.8 F (14.9 C)', 'temp_f': 58.8, 'temp_c': 14.9, 'relative_humidity': '54%', 'wind_string': 'From the NNW at 4.0 MPH Gusting to 10.0 MPH', 'wind_dir': 'NNW', 'wind_degrees': 327, 'wind_mph': 4.0, 'wind_gust_mph': '10.0', 'wind_kph': 6.4, 'wind_gust_kph': '16.1', 'pressure_mb': '1009', 'pressure_in': '29.79', 'pressure_trend': '+', 'dewpoint_string': '42 F (6 C)', 'dewpoint_f': 42, 'dewpoint_c': 6, 'heat_index_string': 'NA', 'heat_index_f': 'NA', 'heat_index_c': 'NA', 'windchill_string': 'NA', 'windchill_f': 'NA', 'windchill_c': 'NA', 'feelslike_string': '58.8 F (14.9 C)', 'feelslike_f': '58.8', 'feelslike_c': '14.9', 'visibility_mi': '10.0', 'visibility_km': '16.1', 'solarradiation': '304', 'UV': '0.9', 'precip_1hr_string': '0.00 in ( 0 mm)', 'precip_1hr_in': '0.00', 'precip_1hr_metric': ' 0', 'precip_today_string': '0.00 in (0 mm)', 'precip_today_in': '0.00', 'precip_today_metric': '0', 'icon': 'mostlycloudy', 'icon_url': 'http://icons.wxug.com/i/c/k/mostlycloudy.gif', 'forecast_url': 'http://www.wunderground.com/US/PA/Philadelphia.html', 'history_url': 'http://www.wunderground.com/weatherstation/WXDailyHistory.asp?ID=KPAPHILA99', 'ob_url': 'http://www.wunderground.com/cgi-bin/findweather/getForecast?query=39.943699,-75.150902', 'nowcast': ''}\n"
     ]
    }
   ],
   "source": [
    "# The method `all_weather_stats` simply returns a dict that filters out location-type info from the `data` json\n",
    "print(phila_1.all_weather_stats)"
   ]
  },
  {
   "cell_type": "code",
   "execution_count": 14,
   "metadata": {},
   "outputs": [
    {
     "name": "stdout",
     "output_type": "stream",
     "text": [
      "{'image': {'url': 'http://icons.wxug.com/graphics/wu2/logo_130x80.png', 'title': 'Weather Underground', 'link': 'http://www.wunderground.com'}, 'display_location': {'full': 'Boston, MA', 'city': 'Boston', 'state': 'MA', 'state_name': 'Massachusetts', 'country': 'US', 'country_iso3166': 'US', 'zip': '02108', 'magic': '1', 'wmo': '99999', 'latitude': '42.36000061', 'longitude': '-71.06999969', 'elevation': '21.9'}, 'observation_location': {'full': 'south end, Boston, Massachusetts', 'city': 'south end, Boston', 'state': 'Massachusetts', 'country': 'US', 'country_iso3166': 'US', 'latitude': '42.346802', 'longitude': '-71.071365', 'elevation': '46 ft'}, 'estimated': {}, 'station_id': 'KMABOSTO197', 'observation_time': 'Last Updated on October 26, 4:31 PM EDT', 'observation_time_rfc822': 'Thu, 26 Oct 2017 16:31:34 -0400', 'observation_epoch': '1509049894', 'local_time_rfc822': 'Thu, 26 Oct 2017 16:31:40 -0400', 'local_epoch': '1509049900', 'local_tz_short': 'EDT', 'local_tz_long': 'America/New_York', 'local_tz_offset': '-0400', 'weather': 'Overcast', 'temperature_string': '55.4 F (13.0 C)', 'temp_f': 55.4, 'relative_humidity': '91%', 'wind_string': 'From the SSE at 1.3 MPH Gusting to 2.5 MPH', 'wind_dir': 'SSE', 'wind_degrees': 163, 'wind_mph': 1.3, 'wind_gust_mph': '2.5', 'pressure_mb': '1000', 'pressure_in': '29.53', 'pressure_trend': '-', 'dewpoint_string': '53 F (12 C)', 'dewpoint_f': 53, 'heat_index_string': 'NA', 'heat_index_f': 'NA', 'windchill_string': 'NA', 'windchill_f': 'NA', 'feelslike_string': '55.4 F (13.0 C)', 'feelslike_f': '55.4', 'visibility_mi': '10.0', 'solarradiation': '65', 'UV': '1.0', 'precip_1hr_string': '0.00 in ( 0 mm)', 'precip_1hr_in': '0.00', 'precip_today_string': '0.50 in (13 mm)', 'precip_today_in': '0.50', 'icon': 'cloudy', 'icon_url': 'http://icons.wxug.com/i/c/k/cloudy.gif', 'forecast_url': 'http://www.wunderground.com/US/MA/Boston.html', 'history_url': 'http://www.wunderground.com/weatherstation/WXDailyHistory.asp?ID=KMABOSTO197', 'ob_url': 'http://www.wunderground.com/cgi-bin/findweather/getForecast?query=42.346802,-71.071365', 'nowcast': ''}\n"
     ]
    }
   ],
   "source": [
    "# Lastly, `filter_units` filters *out* the specified unit system from `data`\n",
    "print(boston_1.filter_units(units='metric'))  # Filter out metric unit measurements"
   ]
  },
  {
   "cell_type": "code",
   "execution_count": 15,
   "metadata": {},
   "outputs": [
    {
     "name": "stdout",
     "output_type": "stream",
     "text": [
      "2017-10-26 20:36:25\n"
     ]
    }
   ],
   "source": [
    "# A few minutes have passed; the point I'm trying to illustrate\n",
    "#     with a class-based implementation is that we now get each call\n",
    "#     and a number of its attributes as its own siloed object.\n",
    "print(time.strftime(\"%Y-%m-%d %H:%M:%S\", time.gmtime()))\n",
    "phila_2 = weather.CityWeather(key)\n",
    "boston_2 = weather.CityWeather(key, state='MA', city='Boston')\n",
    "\n",
    "# These new requests were made at:"
   ]
  }
 ],
 "metadata": {
  "kernelspec": {
   "display_name": "Python 3",
   "language": "python",
   "name": "python3"
  },
  "language_info": {
   "codemirror_mode": {
    "name": "ipython",
    "version": 3
   },
   "file_extension": ".py",
   "mimetype": "text/x-python",
   "name": "python",
   "nbconvert_exporter": "python",
   "pygments_lexer": "ipython3",
   "version": "3.6.2"
  }
 },
 "nbformat": 4,
 "nbformat_minor": 2
}
